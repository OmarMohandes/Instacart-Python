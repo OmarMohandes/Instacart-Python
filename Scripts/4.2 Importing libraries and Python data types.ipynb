{
 "cells": [
  {
   "cell_type": "markdown",
   "id": "a8e722ee",
   "metadata": {},
   "source": [
    "# 01. Importing libraries"
   ]
  },
  {
   "cell_type": "code",
   "execution_count": 3,
   "id": "dfcad8bb",
   "metadata": {},
   "outputs": [],
   "source": [
    "# Import libraries\n",
    "\n",
    "import pandas as pd\n",
    "import numpy as np\n",
    "import os"
   ]
  },
  {
   "cell_type": "markdown",
   "id": "907d6d7c",
   "metadata": {},
   "source": [
    "# Integers"
   ]
  },
  {
   "cell_type": "code",
   "execution_count": 17,
   "id": "b5ce57fc",
   "metadata": {},
   "outputs": [],
   "source": [
    "x = 2"
   ]
  },
  {
   "cell_type": "code",
   "execution_count": 2,
   "id": "f4ae4524",
   "metadata": {},
   "outputs": [
    {
     "data": {
      "text/plain": [
       "2"
      ]
     },
     "execution_count": 2,
     "metadata": {},
     "output_type": "execute_result"
    }
   ],
   "source": [
    "x"
   ]
  },
  {
   "cell_type": "code",
   "execution_count": 3,
   "id": "fd1a800f",
   "metadata": {},
   "outputs": [
    {
     "name": "stdout",
     "output_type": "stream",
     "text": [
      "2\n"
     ]
    }
   ],
   "source": [
    "print(x)"
   ]
  },
  {
   "cell_type": "code",
   "execution_count": 4,
   "id": "5c9a762b",
   "metadata": {},
   "outputs": [
    {
     "data": {
      "text/plain": [
       "int"
      ]
     },
     "execution_count": 4,
     "metadata": {},
     "output_type": "execute_result"
    }
   ],
   "source": [
    "type(x)"
   ]
  },
  {
   "cell_type": "markdown",
   "id": "55ecb637",
   "metadata": {},
   "source": [
    "# Floating-Point Numbers"
   ]
  },
  {
   "cell_type": "code",
   "execution_count": 2,
   "id": "bde9afb3",
   "metadata": {},
   "outputs": [],
   "source": [
    "y = 5.678"
   ]
  },
  {
   "cell_type": "code",
   "execution_count": 4,
   "id": "e4f75b30",
   "metadata": {},
   "outputs": [
    {
     "data": {
      "text/plain": [
       "5.678"
      ]
     },
     "execution_count": 4,
     "metadata": {},
     "output_type": "execute_result"
    }
   ],
   "source": [
    "y"
   ]
  },
  {
   "cell_type": "code",
   "execution_count": 5,
   "id": "cf4b969c",
   "metadata": {},
   "outputs": [
    {
     "name": "stdout",
     "output_type": "stream",
     "text": [
      "5.678\n"
     ]
    }
   ],
   "source": [
    "print(y)"
   ]
  },
  {
   "cell_type": "code",
   "execution_count": 8,
   "id": "b09a024a",
   "metadata": {},
   "outputs": [
    {
     "data": {
      "text/plain": [
       "float"
      ]
     },
     "execution_count": 8,
     "metadata": {},
     "output_type": "execute_result"
    }
   ],
   "source": [
    "type(y)"
   ]
  },
  {
   "cell_type": "markdown",
   "id": "9882d7b3",
   "metadata": {},
   "source": [
    "# Strings"
   ]
  },
  {
   "cell_type": "code",
   "execution_count": 6,
   "id": "d609ba42",
   "metadata": {},
   "outputs": [],
   "source": [
    "z = 'Syria'"
   ]
  },
  {
   "cell_type": "code",
   "execution_count": 7,
   "id": "8c89eef9",
   "metadata": {},
   "outputs": [
    {
     "data": {
      "text/plain": [
       "'Syria'"
      ]
     },
     "execution_count": 7,
     "metadata": {},
     "output_type": "execute_result"
    }
   ],
   "source": [
    "z"
   ]
  },
  {
   "cell_type": "code",
   "execution_count": 9,
   "id": "519b8d5a",
   "metadata": {},
   "outputs": [
    {
     "name": "stdout",
     "output_type": "stream",
     "text": [
      "Syria\n"
     ]
    }
   ],
   "source": [
    "print(z)"
   ]
  },
  {
   "cell_type": "code",
   "execution_count": 10,
   "id": "6d9f0c29",
   "metadata": {},
   "outputs": [
    {
     "data": {
      "text/plain": [
       "str"
      ]
     },
     "execution_count": 10,
     "metadata": {},
     "output_type": "execute_result"
    }
   ],
   "source": [
    "type(z)"
   ]
  },
  {
   "cell_type": "markdown",
   "id": "8c337ff5",
   "metadata": {},
   "source": [
    "# Boolean"
   ]
  },
  {
   "cell_type": "code",
   "execution_count": 11,
   "id": "16bb95f9",
   "metadata": {},
   "outputs": [
    {
     "data": {
      "text/plain": [
       "bool"
      ]
     },
     "execution_count": 11,
     "metadata": {},
     "output_type": "execute_result"
    }
   ],
   "source": [
    "type(False)"
   ]
  },
  {
   "cell_type": "code",
   "execution_count": 12,
   "id": "033357e6",
   "metadata": {},
   "outputs": [
    {
     "data": {
      "text/plain": [
       "bool"
      ]
     },
     "execution_count": 12,
     "metadata": {},
     "output_type": "execute_result"
    }
   ],
   "source": [
    "type(True)"
   ]
  },
  {
   "cell_type": "markdown",
   "id": "ef8b1bb1",
   "metadata": {},
   "source": [
    "# Task"
   ]
  },
  {
   "cell_type": "code",
   "execution_count": 5,
   "id": "15c1523d",
   "metadata": {},
   "outputs": [],
   "source": [
    "x = 50"
   ]
  },
  {
   "cell_type": "code",
   "execution_count": 3,
   "id": "66e8e73c",
   "metadata": {},
   "outputs": [],
   "source": [
    "z = 25"
   ]
  },
  {
   "cell_type": "code",
   "execution_count": 6,
   "id": "84446210",
   "metadata": {},
   "outputs": [
    {
     "data": {
      "text/plain": [
       "100"
      ]
     },
     "execution_count": 6,
     "metadata": {},
     "output_type": "execute_result"
    }
   ],
   "source": [
    "x + z + z"
   ]
  },
  {
   "cell_type": "code",
   "execution_count": 7,
   "id": "9d63588c",
   "metadata": {},
   "outputs": [
    {
     "data": {
      "text/plain": [
       "100"
      ]
     },
     "execution_count": 7,
     "metadata": {},
     "output_type": "execute_result"
    }
   ],
   "source": [
    "x * 2"
   ]
  },
  {
   "cell_type": "code",
   "execution_count": 9,
   "id": "e7c10d01",
   "metadata": {},
   "outputs": [
    {
     "data": {
      "text/plain": [
       "100"
      ]
     },
     "execution_count": 9,
     "metadata": {},
     "output_type": "execute_result"
    }
   ],
   "source": [
    "(z + z) * 2"
   ]
  },
  {
   "cell_type": "code",
   "execution_count": 10,
   "id": "024cea0b",
   "metadata": {},
   "outputs": [],
   "source": [
    "a = 8.75"
   ]
  },
  {
   "cell_type": "code",
   "execution_count": 11,
   "id": "b58e4be6",
   "metadata": {},
   "outputs": [],
   "source": [
    "b = 3.75"
   ]
  },
  {
   "cell_type": "code",
   "execution_count": 12,
   "id": "7eb32cac",
   "metadata": {},
   "outputs": [
    {
     "data": {
      "text/plain": [
       "2.3333333333333335"
      ]
     },
     "execution_count": 12,
     "metadata": {},
     "output_type": "execute_result"
    }
   ],
   "source": [
    "a / b"
   ]
  },
  {
   "cell_type": "code",
   "execution_count": 12,
   "id": "b16911b1",
   "metadata": {},
   "outputs": [],
   "source": [
    "d = 'Jupyter '"
   ]
  },
  {
   "cell_type": "code",
   "execution_count": 13,
   "id": "5413a877",
   "metadata": {},
   "outputs": [],
   "source": [
    "e = 'Fundamentals '"
   ]
  },
  {
   "cell_type": "code",
   "execution_count": 14,
   "id": "e957e5dc",
   "metadata": {},
   "outputs": [],
   "source": [
    "f = '& '"
   ]
  },
  {
   "cell_type": "code",
   "execution_count": 15,
   "id": "e4e64a60",
   "metadata": {},
   "outputs": [],
   "source": [
    "g = 'Python '"
   ]
  },
  {
   "cell_type": "code",
   "execution_count": 16,
   "id": "4660b464",
   "metadata": {},
   "outputs": [],
   "source": [
    "h = 'Data '"
   ]
  },
  {
   "cell_type": "code",
   "execution_count": 17,
   "id": "88afe417",
   "metadata": {},
   "outputs": [],
   "source": [
    "i = 'Types'"
   ]
  },
  {
   "cell_type": "code",
   "execution_count": 18,
   "id": "e5f41bc0",
   "metadata": {},
   "outputs": [
    {
     "data": {
      "text/plain": [
       "'Jupyter Fundamentals & Python Data Types'"
      ]
     },
     "execution_count": 18,
     "metadata": {},
     "output_type": "execute_result"
    }
   ],
   "source": [
    "# Concatenating strings\n",
    "\n",
    "d + e + f + g + h + i"
   ]
  },
  {
   "cell_type": "code",
   "execution_count": 19,
   "id": "cc742ed8",
   "metadata": {},
   "outputs": [],
   "source": [
    "j = 'Gentleman, '"
   ]
  },
  {
   "cell_type": "code",
   "execution_count": 20,
   "id": "13de9efc",
   "metadata": {},
   "outputs": [],
   "source": [
    "k = 'i bring '"
   ]
  },
  {
   "cell_type": "code",
   "execution_count": 21,
   "id": "c445458e",
   "metadata": {},
   "outputs": [],
   "source": [
    "l = 'good '"
   ]
  },
  {
   "cell_type": "code",
   "execution_count": 22,
   "id": "2118b695",
   "metadata": {},
   "outputs": [],
   "source": [
    "m = 'news. '"
   ]
  },
  {
   "cell_type": "code",
   "execution_count": 23,
   "id": "ccd1a208",
   "metadata": {},
   "outputs": [
    {
     "data": {
      "text/plain": [
       "'Gentleman, i bring good news. '"
      ]
     },
     "execution_count": 23,
     "metadata": {},
     "output_type": "execute_result"
    }
   ],
   "source": [
    "# Concatenating strings\n",
    "\n",
    "j + k + l + m"
   ]
  },
  {
   "cell_type": "code",
   "execution_count": null,
   "id": "2f87da07",
   "metadata": {},
   "outputs": [],
   "source": []
  }
 ],
 "metadata": {
  "kernelspec": {
   "display_name": "Python 3 (ipykernel)",
   "language": "python",
   "name": "python3"
  },
  "language_info": {
   "codemirror_mode": {
    "name": "ipython",
    "version": 3
   },
   "file_extension": ".py",
   "mimetype": "text/x-python",
   "name": "python",
   "nbconvert_exporter": "python",
   "pygments_lexer": "ipython3",
   "version": "3.10.9"
  }
 },
 "nbformat": 4,
 "nbformat_minor": 5
}
